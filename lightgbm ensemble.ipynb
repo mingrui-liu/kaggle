{
 "cells": [
  {
   "cell_type": "code",
   "execution_count": null,
   "metadata": {
    "collapsed": true
   },
   "outputs": [],
   "source": [
    "# lightgbm ensemble"
   ]
  },
  {
   "cell_type": "code",
   "execution_count": 1,
   "metadata": {
    "collapsed": true
   },
   "outputs": [],
   "source": [
    "import numpy as np\n",
    "import pandas as pd\n",
    "import gc\n",
    "import time\n",
    "from contextlib import contextmanager\n",
    "from lightgbm import LGBMClassifier\n",
    "from sklearn.metrics import roc_auc_score, roc_curve\n",
    "from sklearn.model_selection import KFold, StratifiedKFold\n",
    "import matplotlib.pyplot as plt\n",
    "import seaborn as sns\n",
    "import warnings\n",
    "warnings.simplefilter(action='ignore', category=FutureWarning)"
   ]
  },
  {
   "cell_type": "code",
   "execution_count": 2,
   "metadata": {
    "collapsed": true
   },
   "outputs": [],
   "source": [
    "train_df=pd.read_csv('train_df_select_feature.csv')"
   ]
  },
  {
   "cell_type": "code",
   "execution_count": 3,
   "metadata": {
    "collapsed": true
   },
   "outputs": [],
   "source": [
    "test_df=pd.read_csv('test_df_select_feature.csv')"
   ]
  },
  {
   "cell_type": "code",
   "execution_count": 4,
   "metadata": {
    "collapsed": true
   },
   "outputs": [],
   "source": [
    "feats = [f for f in train_df.columns if f not in ['TARGET','SK_ID_CURR','SK_ID_BUREAU','SK_ID_PREV','index']]"
   ]
  },
  {
   "cell_type": "code",
   "execution_count": 5,
   "metadata": {
    "collapsed": true
   },
   "outputs": [],
   "source": [
    "train=train_df[feats]\n",
    "train_target=train_df['TARGET']\n",
    "test=test_df[feats]"
   ]
  },
  {
   "cell_type": "code",
   "execution_count": 6,
   "metadata": {
    "collapsed": true
   },
   "outputs": [],
   "source": [
    "# set the parameter\n",
    "lgb_params = {}\n",
    "lgb_params['learning_rate'] = 0.02\n",
    "lgb_params['n_estimators'] = 10000\n",
    "lgb_params['nthread']=4\n",
    "lgb_params['num_leaves']=32\n",
    "lgb_params['colsample_bytree'] = 0.9497036\n",
    "lgb_params['subsample'] = 0.8715623\n",
    "lgb_params['max_depth']=8\n",
    "lgb_params['reg_alpha']=0.04\n",
    "lgb_params['reg_lambda']=0.073\n",
    "lgb_params['min_split_gain']=0.0222415\n",
    "lgb_params['min_child_weight']=40\n",
    "lgb_params['silent']=-1\n",
    "lgb_params['verbose']=-1\n",
    "lgb_model = LGBMClassifier(**lgb_params)"
   ]
  },
  {
   "cell_type": "code",
   "execution_count": 7,
   "metadata": {
    "collapsed": true
   },
   "outputs": [],
   "source": [
    "lgb_params2 = {}\n",
    "lgb_params['learning_rate'] = 0.02\n",
    "lgb_params['n_estimators'] = 10000\n",
    "lgb_params['nthread']=4\n",
    "lgb_params['num_leaves']=44\n",
    "lgb_params['colsample_bytree'] = 0.1735\n",
    "lgb_params['subsample'] = 0.9619\n",
    "lgb_params['max_depth']=9\n",
    "lgb_params['reg_alpha']=0.8082\n",
    "lgb_params['reg_lambda']=0.7325\n",
    "lgb_params['min_split_gain']=0.0403\n",
    "lgb_params['min_child_weight']=57.4218\n",
    "lgb_params['scale_pos_weight']=1.3281\n",
    "lgb_params['silent']=-1\n",
    "lgb_params['verbose']=-1\n",
    "lgb_model2 = LGBMClassifier(**lgb_params2)"
   ]
  },
  {
   "cell_type": "code",
   "execution_count": 8,
   "metadata": {
    "collapsed": true
   },
   "outputs": [],
   "source": [
    "lgb_params3 = {}\n",
    "lgb_params['learning_rate'] = 0.02\n",
    "lgb_params['n_estimators'] = 10000\n",
    "lgb_params['nthread']=4\n",
    "lgb_params['num_leaves']=45\n",
    "lgb_params['colsample_bytree'] = 0.1518\n",
    "lgb_params['subsample'] = 0.9051\n",
    "lgb_params['max_depth']=8\n",
    "lgb_params['reg_alpha']=0.5678\n",
    "lgb_params['reg_lambda']=0.9661\n",
    "lgb_params['min_split_gain']=0.0928\n",
    "lgb_params['min_child_weight']=68.5673\n",
    "lgb_params['scale_pos_weight']=1.2034\n",
    "lgb_params['silent']=-1\n",
    "lgb_params['verbose']=-1\n",
    "lgb_model3 = LGBMClassifier(**lgb_params3)"
   ]
  },
  {
   "cell_type": "code",
   "execution_count": 9,
   "metadata": {
    "collapsed": false
   },
   "outputs": [],
   "source": [
    "class Ensemble(object):\n",
    "    def __init__(self, n_splits, stacker, base_models):\n",
    "        self.n_splits = n_splits\n",
    "        self.stacker = stacker\n",
    "        self.base_models = base_models\n",
    "\n",
    "    def fit_predict(self, X, y, T):\n",
    "        X = np.array(X)\n",
    "        y = np.array(y)\n",
    "        T = np.array(T)\n",
    "\n",
    "        folds = list(StratifiedKFold(n_splits=self.n_splits, shuffle=True, random_state=2016).split(X, y))\n",
    "\n",
    "        S_train = np.zeros((X.shape[0], len(self.base_models)))\n",
    "        S_test = np.zeros((T.shape[0], len(self.base_models)))\n",
    "        for i, clf in enumerate(self.base_models):\n",
    "\n",
    "            S_test_i = np.zeros((T.shape[0], self.n_splits))\n",
    "\n",
    "            for j, (train_idx, test_idx) in enumerate(folds):\n",
    "                X_train = X[train_idx]\n",
    "                y_train = y[train_idx]\n",
    "                X_holdout = X[test_idx]\n",
    "\n",
    "                print (\"Fit %s fold %d\" % (str(clf).split('(')[0], j+1))\n",
    "                clf.fit(X_train, y_train)\n",
    "                y_pred = clf.predict_proba(X_holdout)[:,1]                \n",
    "\n",
    "                S_train[test_idx, i] = y_pred\n",
    "                S_test_i[:, j] = clf.predict_proba(T)[:,1]\n",
    "            S_test[:, i] = S_test_i.mean(axis=1)\n",
    "            \n",
    "        results = cross_val_score(self.stacker, S_train, y, cv=3, scoring='roc_auc',early_stopping_rounds= 200)\n",
    "        print(\"Stacker score: %.5f\" % (results.mean()))\n",
    "        \n",
    "        self.stacker.fit(S_train, y)\n",
    "        res = self.stacker.predict_proba(S_test)[:,1]\n",
    "        return res"
   ]
  },
  {
   "cell_type": "code",
   "execution_count": 10,
   "metadata": {
    "collapsed": true
   },
   "outputs": [],
   "source": [
    "from sklearn.linear_model import LogisticRegression"
   ]
  },
  {
   "cell_type": "code",
   "execution_count": null,
   "metadata": {
    "collapsed": false
   },
   "outputs": [],
   "source": [
    "log_model = LogisticRegression()\n",
    "stack = Ensemble(n_splits=3,\n",
    "        stacker = log_model,\n",
    "        base_models = (lgb_model, lgb_model2, lgb_model3))        "
   ]
  },
  {
   "cell_type": "code",
   "execution_count": null,
   "metadata": {
    "collapsed": false
   },
   "outputs": [
    {
     "name": "stderr",
     "output_type": "stream",
     "text": [
      "/Users/shuozhang/anaconda/lib/python2.7/site-packages/lightgbm/sklearn.py:285: LGBMDeprecationWarning: The `nthread` parameter is deprecated and will be removed in next version. Please use `n_jobs` instead.\n",
      "  'Please use `n_jobs` instead.', LGBMDeprecationWarning)\n"
     ]
    },
    {
     "name": "stdout",
     "output_type": "stream",
     "text": [
      "Fit LGBMClassifier fold 1\n"
     ]
    }
   ],
   "source": [
    "from sklearn.model_selection import cross_val_score\n",
    "y_pred = stack.fit_predict(train, train_target, test)        \n",
    "test_df['TARGET'] = y_pred\n",
    "test_df[['SK_ID_CURR', 'TARGET']].to_csv('ensemble_submission.csv', index= False)"
   ]
  },
  {
   "cell_type": "code",
   "execution_count": null,
   "metadata": {
    "collapsed": true
   },
   "outputs": [],
   "source": []
  }
 ],
 "metadata": {
  "kernelspec": {
   "display_name": "Python 2",
   "language": "python",
   "name": "python2"
  },
  "language_info": {
   "codemirror_mode": {
    "name": "ipython",
    "version": 2
   },
   "file_extension": ".py",
   "mimetype": "text/x-python",
   "name": "python",
   "nbconvert_exporter": "python",
   "pygments_lexer": "ipython2",
   "version": "2.7.13"
  }
 },
 "nbformat": 4,
 "nbformat_minor": 2
}
