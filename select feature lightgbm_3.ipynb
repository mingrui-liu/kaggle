{
 "cells": [
  {
   "cell_type": "code",
   "execution_count": 12,
   "metadata": {
    "collapsed": false
   },
   "outputs": [
    {
     "name": "stdout",
     "output_type": "stream",
     "text": [
      "Train samples: 307511, test samples: 48744\n"
     ]
    },
    {
     "data": {
      "text/plain": [
       "231"
      ]
     },
     "execution_count": 12,
     "metadata": {},
     "output_type": "execute_result"
    }
   ],
   "source": [
    "import numpy as np\n",
    "import pandas as pd\n",
    "import gc\n",
    "import time\n",
    "from contextlib import contextmanager\n",
    "import lightgbm as lgb\n",
    "from sklearn.metrics import roc_auc_score, roc_curve\n",
    "from sklearn.model_selection import KFold, StratifiedKFold\n",
    "import matplotlib.pyplot as plt\n",
    "import seaborn as sns\n",
    "import warnings\n",
    "warnings.simplefilter(action='ignore', category=FutureWarning)\n",
    "\n",
    "\n",
    "# One-hot encoding for categorical columns with get_dummies\n",
    "def one_hot_encoder(df, nan_as_category = True):\n",
    "    original_columns = list(df.columns)\n",
    "    categorical_columns = [col for col in df.columns if df[col].dtype == 'object']\n",
    "    df = pd.get_dummies(df, columns= categorical_columns, dummy_na= nan_as_category)\n",
    "    new_columns = [c for c in df.columns if c not in original_columns]\n",
    "    return df, new_columns\n",
    "\n",
    "# Preprocess application_train.csv and application_test.csv\n",
    "# Read data and merge\n",
    "df = pd.read_csv('application_train.csv')\n",
    "test_df = pd.read_csv('application_test.csv')\n",
    "print(\"Train samples: {}, test samples: {}\".format(len(df), len(test_df)))\n",
    "df = df.append(test_df).reset_index()\n",
    "# Optional: Remove 4 applications with XNA CODE_GENDER (train set)\n",
    "df = df[df['CODE_GENDER'] != 'XNA']\n",
    "    \n",
    "docs = [_f for _f in df.columns if 'FLAG_DOC' in _f]\n",
    "live = [_f for _f in df.columns if ('FLAG_' in _f) & ('FLAG_DOC' not in _f) & ('_FLAG_' not in _f)]\n",
    "    \n",
    "    # NaN values for DAYS_EMPLOYED: 365.243 -> nan\n",
    "df['DAYS_EMPLOYED'].replace(365243, np.nan, inplace= True)\n",
    "\n",
    "inc_by_org = df[['AMT_INCOME_TOTAL', 'ORGANIZATION_TYPE']].groupby('ORGANIZATION_TYPE').median()['AMT_INCOME_TOTAL']\n",
    "\n",
    "df['NEW_CREDIT_TO_ANNUITY_RATIO'] = df['AMT_CREDIT'] / df['AMT_ANNUITY']\n",
    "df['NEW_CREDIT_TO_GOODS_RATIO'] = df['AMT_CREDIT'] / df['AMT_GOODS_PRICE']\n",
    "df['NEW_DOC_IND_AVG'] = df[docs].mean(axis=1)\n",
    "df['NEW_DOC_IND_STD'] = df[docs].std(axis=1)\n",
    "df['NEW_DOC_IND_KURT'] = df[docs].kurtosis(axis=1)\n",
    "df['NEW_LIVE_IND_SUM'] = df[live].sum(axis=1)\n",
    "df['NEW_LIVE_IND_STD'] = df[live].std(axis=1)\n",
    "df['NEW_LIVE_IND_KURT'] = df[live].kurtosis(axis=1)\n",
    "df['NEW_INC_PER_CHLD'] = df['AMT_INCOME_TOTAL'] / (1 + df['CNT_CHILDREN'])\n",
    "df['NEW_INC_BY_ORG'] = df['ORGANIZATION_TYPE'].map(inc_by_org)\n",
    "df['NEW_EMPLOY_TO_BIRTH_RATIO'] = df['DAYS_EMPLOYED'] / df['DAYS_BIRTH']\n",
    "df['NEW_ANNUITY_TO_INCOME_RATIO'] = df['AMT_ANNUITY'] / (1 + df['AMT_INCOME_TOTAL'])\n",
    "df['NEW_SOURCES_PROD'] = df['EXT_SOURCE_1'] * df['EXT_SOURCE_2'] * df['EXT_SOURCE_3']\n",
    "df['NEW_EXT_SOURCES_MEAN'] = df[['EXT_SOURCE_1', 'EXT_SOURCE_2', 'EXT_SOURCE_3']].mean(axis=1)\n",
    "df['NEW_SCORES_STD'] = df[['EXT_SOURCE_1', 'EXT_SOURCE_2', 'EXT_SOURCE_3']].std(axis=1)\n",
    "df['NEW_SCORES_STD'] = df['NEW_SCORES_STD'].fillna(df['NEW_SCORES_STD'].mean())\n",
    "df['NEW_CAR_TO_BIRTH_RATIO'] = df['OWN_CAR_AGE'] / df['DAYS_BIRTH']\n",
    "df['NEW_CAR_TO_EMPLOY_RATIO'] = df['OWN_CAR_AGE'] / df['DAYS_EMPLOYED']\n",
    "df['NEW_PHONE_TO_BIRTH_RATIO'] = df['DAYS_LAST_PHONE_CHANGE'] / df['DAYS_BIRTH']\n",
    "df['NEW_PHONE_TO_EMPLOY_RATIO'] = df['DAYS_LAST_PHONE_CHANGE'] / df['DAYS_EMPLOYED']\n",
    "df['NEW_CREDIT_TO_INCOME_RATIO'] = df['AMT_CREDIT'] / df['AMT_INCOME_TOTAL']\n",
    "    \n",
    "    # Categorical features with Binary encode (0 or 1; two categories)\n",
    "for bin_feature in ['CODE_GENDER', 'FLAG_OWN_CAR', 'FLAG_OWN_REALTY']:\n",
    "    df[bin_feature], uniques = pd.factorize(df[bin_feature])\n",
    "    # Categorical features with One-Hot encode\n",
    "df, cat_cols = one_hot_encoder(df, nan_as_category=False)\n",
    "    \n",
    "del test_df\n",
    "gc.collect()\n",
    "\n",
    "\n",
    "# Preprocess bureau.csv and bureau_balance.csv\n",
    "bureau = pd.read_csv('bureau.csv')\n",
    "bb = pd.read_csv('bureau_balance.csv')\n",
    "bb, bb_cat = one_hot_encoder(bb, nan_as_category=True)\n",
    "bureau, bureau_cat = one_hot_encoder(bureau, nan_as_category=True)\n",
    "    \n",
    "    # Bureau balance: Perform aggregations and merge with bureau.csv\n",
    "bb_aggregations = {'MONTHS_BALANCE': ['min', 'max', 'size']}\n",
    "for col in bb_cat:\n",
    "    bb_aggregations[col] = ['mean']\n",
    "bb_agg = bb.groupby('SK_ID_BUREAU').agg(bb_aggregations)\n",
    "bb_agg.columns = pd.Index([e[0] + \"_\" + e[1].upper() for e in bb_agg.columns.tolist()])\n",
    "bureau = bureau.join(bb_agg, how='left', on='SK_ID_BUREAU')\n",
    "bureau.drop(['SK_ID_BUREAU'], axis=1, inplace= True)\n",
    "del bb, bb_agg\n",
    "gc.collect()\n",
    "    \n",
    "    # Bureau and bureau_balance numeric features\n",
    "num_aggregations = {\n",
    "        'DAYS_CREDIT': ['min', 'max', 'mean', 'var'],\n",
    "        'DAYS_CREDIT_ENDDATE': ['min', 'max', 'mean'],\n",
    "        'DAYS_CREDIT_UPDATE': ['mean'],\n",
    "        'CREDIT_DAY_OVERDUE': ['max', 'mean'],\n",
    "        'AMT_CREDIT_MAX_OVERDUE': ['mean'],\n",
    "        'AMT_CREDIT_SUM': ['max', 'mean', 'sum'],\n",
    "        'AMT_CREDIT_SUM_DEBT': ['max', 'mean', 'sum'],\n",
    "        'AMT_CREDIT_SUM_OVERDUE': ['mean'],\n",
    "        'AMT_CREDIT_SUM_LIMIT': ['mean', 'sum'],\n",
    "        'AMT_ANNUITY': ['max', 'mean'],\n",
    "        'CNT_CREDIT_PROLONG': ['sum'],\n",
    "        'MONTHS_BALANCE_MIN': ['min'],\n",
    "        'MONTHS_BALANCE_MAX': ['max'],\n",
    "        'MONTHS_BALANCE_SIZE': ['mean', 'sum']\n",
    "    }\n",
    "    # Bureau and bureau_balance categorical features\n",
    "cat_aggregations = {}\n",
    "for cat in bureau_cat: cat_aggregations[cat] = ['mean']\n",
    "for cat in bb_cat: cat_aggregations[cat + \"_MEAN\"] = ['mean']\n",
    "    \n",
    "bureau_agg = bureau.groupby('SK_ID_CURR').agg(dict(num_aggregations, **cat_aggregations))\n",
    "bureau_agg.columns = pd.Index(['BURO_' + e[0] + \"_\" + e[1].upper() for e in bureau_agg.columns.tolist()])\n",
    "    # Bureau: Active credits - using only numerical aggregations\n",
    "active = bureau[bureau['CREDIT_ACTIVE_Active'] == 1]\n",
    "active_agg = active.groupby('SK_ID_CURR').agg(num_aggregations)\n",
    "cols = active_agg.columns.tolist()\n",
    "active_agg.columns = pd.Index(['ACTIVE_' + e[0] + \"_\" + e[1].upper() for e in active_agg.columns.tolist()])\n",
    "active_agg = active_agg.reset_index() # added\n",
    "bureau_agg = bureau_agg.reset_index() # added\n",
    "bureau_agg = bureau_agg.merge(active_agg, how='left', on='SK_ID_CURR')\n",
    "del active, active_agg\n",
    "gc.collect()\n",
    "    # Bureau: Closed credits - using only numerical aggregations\n",
    "closed = bureau[bureau['CREDIT_ACTIVE_Closed'] == 1]\n",
    "closed_agg = closed.groupby('SK_ID_CURR').agg(num_aggregations)\n",
    "closed_agg.columns = pd.Index(['CLOSED_' + e[0] + \"_\" + e[1].upper() for e in closed_agg.columns.tolist()])\n",
    "closed_agg = closed_agg.reset_index() # added\n",
    "bureau_agg = bureau_agg.merge(closed_agg, how='left', on='SK_ID_CURR')\n",
    "    \n",
    "for e in cols:\n",
    "    bureau_agg['NEW_RATIO_BURO_' + e[0] + \"_\" + e[1].upper()] = bureau_agg['ACTIVE_' + e[0] + \"_\" + e[1].upper()] / bureau_agg['CLOSED_' + e[0] + \"_\" + e[1].upper()]\n",
    "    \n",
    "del closed, closed_agg, bureau\n",
    "gc.collect()\n",
    "\n",
    "\n",
    "# Preprocess previous_applications.csv\n",
    "prev = pd.read_csv('previous_application.csv')\n",
    "prev, cat_cols = one_hot_encoder(prev, nan_as_category= True)\n",
    "    # Days 365.243 values -> nan\n",
    "prev['DAYS_FIRST_DRAWING'].replace(365243, np.nan, inplace= True)\n",
    "prev['DAYS_FIRST_DUE'].replace(365243, np.nan, inplace= True)\n",
    "prev['DAYS_LAST_DUE_1ST_VERSION'].replace(365243, np.nan, inplace= True)\n",
    "prev['DAYS_LAST_DUE'].replace(365243, np.nan, inplace= True)\n",
    "prev['DAYS_TERMINATION'].replace(365243, np.nan, inplace= True)\n",
    "    # Add feature: value ask / value received percentage\n",
    "prev['APP_CREDIT_PERC'] = prev['AMT_APPLICATION'] / prev['AMT_CREDIT']\n",
    "    # Previous applications numeric features\n",
    "num_aggregations = {\n",
    "        'AMT_ANNUITY': ['min', 'max', 'mean'],\n",
    "        'AMT_APPLICATION': ['min', 'max', 'mean'],\n",
    "        'AMT_CREDIT': ['min', 'max', 'mean'],\n",
    "        'APP_CREDIT_PERC': ['min', 'max', 'mean', 'var'],\n",
    "        'AMT_DOWN_PAYMENT': ['min', 'max', 'mean'],\n",
    "        'AMT_GOODS_PRICE': ['min', 'max', 'mean'],\n",
    "        'HOUR_APPR_PROCESS_START': ['min', 'max', 'mean'],\n",
    "        'RATE_DOWN_PAYMENT': ['min', 'max', 'mean'],\n",
    "        'DAYS_DECISION': ['min', 'max', 'mean'],\n",
    "        'CNT_PAYMENT': ['mean', 'sum'],\n",
    "    }\n",
    "    # Previous applications categorical features\n",
    "cat_aggregations = {}\n",
    "for cat in cat_cols:\n",
    "    cat_aggregations[cat] = ['mean']\n",
    "    \n",
    "prev_agg = prev.groupby('SK_ID_CURR').agg(dict(num_aggregations, **cat_aggregations))\n",
    "prev_agg.columns = pd.Index(['PREV_' + e[0] + \"_\" + e[1].upper() for e in prev_agg.columns.tolist()])\n",
    "    # Previous Applications: Approved Applications - only numerical features\n",
    "approved = prev[prev['NAME_CONTRACT_STATUS_Approved'] == 1]\n",
    "approved_agg = approved.groupby('SK_ID_CURR').agg(num_aggregations)\n",
    "cols = approved_agg.columns.tolist()\n",
    "approved_agg.columns = pd.Index(['APPROVED_' + e[0] + \"_\" + e[1].upper() for e in approved_agg.columns.tolist()])\n",
    "approved_agg = approved_agg.reset_index() # added\n",
    "prev_agg = prev_agg.reset_index() # added\n",
    "prev_agg = prev_agg.merge(approved_agg, how='left', on='SK_ID_CURR') # Change join to merge\n",
    "    # Previous Applications: Refused Applications - only numerical features\n",
    "refused = prev[prev['NAME_CONTRACT_STATUS_Refused'] == 1]\n",
    "refused_agg = refused.groupby('SK_ID_CURR').agg(num_aggregations)\n",
    "refused_agg.columns = pd.Index(['REFUSED_' + e[0] + \"_\" + e[1].upper() for e in refused_agg.columns.tolist()])\n",
    "refused_agg = refused_agg.reset_index() # added\n",
    "prev_agg = prev_agg.merge(refused_agg, how='left', on='SK_ID_CURR') # Change join to merge\n",
    "del refused, refused_agg, approved, approved_agg, prev\n",
    "    \n",
    "for e in cols:\n",
    "    prev_agg['NEW_RATIO_PREV_' + e[0] + \"_\" + e[1].upper()] = prev_agg['APPROVED_' + e[0] + \"_\" + e[1].upper()] / prev_agg['REFUSED_' + e[0] + \"_\" + e[1].upper()]\n",
    "    \n",
    "gc.collect()\n",
    "\n",
    "\n",
    "# Preprocess POS_CASH_balance.csv\n",
    "pos = pd.read_csv('POS_CASH_balance.csv')\n",
    "pos, cat_cols = one_hot_encoder(pos, nan_as_category= True)\n",
    "    # Features\n",
    "aggregations = {\n",
    "        'MONTHS_BALANCE': ['max', 'mean', 'size'],\n",
    "        'SK_DPD': ['max', 'mean'],\n",
    "        'SK_DPD_DEF': ['max', 'mean']\n",
    "    }\n",
    "for cat in cat_cols:\n",
    "    aggregations[cat] = ['mean']\n",
    "    \n",
    "pos_agg = pos.groupby('SK_ID_CURR').agg(aggregations)\n",
    "pos_agg.columns = pd.Index(['POS_' + e[0] + \"_\" + e[1].upper() for e in pos_agg.columns.tolist()])\n",
    "    # Count pos cash accounts\n",
    "pos_agg['POS_COUNT'] = pos.groupby('SK_ID_CURR').size()\n",
    "del pos\n",
    "gc.collect()\n",
    "\n",
    "    \n",
    "# Preprocess installments_payments.csv\n",
    "ins = pd.read_csv('installments_payments.csv')\n",
    "ins, cat_cols = one_hot_encoder(ins, nan_as_category= True)\n",
    "    # Percentage and difference paid in each installment (amount paid and installment value)\n",
    "ins['PAYMENT_PERC'] = ins['AMT_PAYMENT'] / ins['AMT_INSTALMENT']\n",
    "ins['PAYMENT_DIFF'] = ins['AMT_INSTALMENT'] - ins['AMT_PAYMENT']\n",
    "    # Days past due and days before due (no negative values)\n",
    "ins['DPD'] = ins['DAYS_ENTRY_PAYMENT'] - ins['DAYS_INSTALMENT']\n",
    "ins['DBD'] = ins['DAYS_INSTALMENT'] - ins['DAYS_ENTRY_PAYMENT']\n",
    "ins['DPD'] = ins['DPD'].apply(lambda x: x if x > 0 else 0)\n",
    "ins['DBD'] = ins['DBD'].apply(lambda x: x if x > 0 else 0)\n",
    "    # Features: Perform aggregations\n",
    "aggregations = {\n",
    "        'NUM_INSTALMENT_VERSION': ['nunique'],\n",
    "        'DPD': ['max', 'mean', 'sum'],\n",
    "        'DBD': ['max', 'mean', 'sum'],\n",
    "        'PAYMENT_PERC': ['max', 'mean', 'sum', 'var'],\n",
    "        'PAYMENT_DIFF': ['max', 'mean', 'sum', 'var'],\n",
    "        'AMT_INSTALMENT': ['max', 'mean', 'sum'],\n",
    "        'AMT_PAYMENT': ['min', 'max', 'mean', 'sum'],\n",
    "        'DAYS_ENTRY_PAYMENT': ['max', 'mean', 'sum']\n",
    "    }\n",
    "for cat in cat_cols:\n",
    "    aggregations[cat] = ['mean']\n",
    "ins_agg = ins.groupby('SK_ID_CURR').agg(aggregations)\n",
    "ins_agg.columns = pd.Index(['INSTAL_' + e[0] + \"_\" + e[1].upper() for e in ins_agg.columns.tolist()])\n",
    "    # Count installments accounts\n",
    "ins_agg['INSTAL_COUNT'] = ins.groupby('SK_ID_CURR').size()\n",
    "del ins\n",
    "gc.collect()\n",
    "\n",
    "\n",
    "# Preprocess credit_card_balance.csv\n",
    "cc = pd.read_csv('credit_card_balance.csv')\n",
    "cc, cat_cols = one_hot_encoder(cc, nan_as_category= True)\n",
    "    # General aggregations\n",
    "cc.drop(['SK_ID_PREV'], axis= 1, inplace = True)\n",
    "cc_agg = cc.groupby('SK_ID_CURR').agg(['min', 'max', 'mean', 'sum', 'var'])\n",
    "cc_agg.columns = pd.Index(['CC_' + e[0] + \"_\" + e[1].upper() for e in cc_agg.columns.tolist()])\n",
    "    # Count credit card lines\n",
    "cc_agg['CC_COUNT'] = cc.groupby('SK_ID_CURR').size()\n",
    "del cc\n",
    "gc.collect()"
   ]
  },
  {
   "cell_type": "code",
   "execution_count": null,
   "metadata": {
    "collapsed": true
   },
   "outputs": [],
   "source": [
    "print (df.shape)\n",
    "print (bureau_agg.shape)\n",
    "print (prev_agg.shape)\n",
    "print (pos_agg.shape)\n",
    "print (ins_agg.shape)\n",
    "print (cc_agg.shape)"
   ]
  },
  {
   "cell_type": "code",
   "execution_count": 13,
   "metadata": {
    "collapsed": false
   },
   "outputs": [
    {
     "name": "stdout",
     "output_type": "stream",
     "text": [
      "(356251, 870)\n"
     ]
    }
   ],
   "source": [
    "# join dataset\n",
    "#bureau and bureau_balance\n",
    "df = df.merge(bureau_agg, how='left', on='SK_ID_CURR') \n",
    "del bureau_agg\n",
    "gc.collect()\n",
    "#previous_applications\n",
    "df = df.merge(prev_agg, how='left', on='SK_ID_CURR')\n",
    "del prev_agg\n",
    "gc.collect()\n",
    "#POS-CASH balance\"\n",
    "df = df.merge(pos_agg.reset_index(), how='left', on='SK_ID_CURR')\n",
    "del pos_agg\n",
    "gc.collect()\n",
    "#installments payments\n",
    "df = df.merge(ins_agg.reset_index(), how='left', on='SK_ID_CURR')\n",
    "del ins_agg\n",
    "gc.collect()\n",
    "#credit card balance\n",
    "df = df.merge(cc_agg.reset_index(), how='left', on='SK_ID_CURR')\n",
    "del cc_agg\n",
    "gc.collect()\n",
    "print (df.shape)\n",
    "#df.to_csv('df.csv', index=False)"
   ]
  },
  {
   "cell_type": "code",
   "execution_count": 15,
   "metadata": {
    "collapsed": false
   },
   "outputs": [
    {
     "data": {
      "text/plain": [
       "Index([u'index', u'AMT_ANNUITY', u'AMT_CREDIT', u'AMT_GOODS_PRICE',\n",
       "       u'AMT_INCOME_TOTAL', u'AMT_REQ_CREDIT_BUREAU_DAY',\n",
       "       u'AMT_REQ_CREDIT_BUREAU_HOUR', u'AMT_REQ_CREDIT_BUREAU_MON',\n",
       "       u'AMT_REQ_CREDIT_BUREAU_QRT', u'AMT_REQ_CREDIT_BUREAU_WEEK',\n",
       "       ...\n",
       "       u'CC_NAME_CONTRACT_STATUS_Signed_MAX',\n",
       "       u'CC_NAME_CONTRACT_STATUS_Signed_MEAN',\n",
       "       u'CC_NAME_CONTRACT_STATUS_Signed_SUM',\n",
       "       u'CC_NAME_CONTRACT_STATUS_Signed_VAR',\n",
       "       u'CC_NAME_CONTRACT_STATUS_nan_MIN', u'CC_NAME_CONTRACT_STATUS_nan_MAX',\n",
       "       u'CC_NAME_CONTRACT_STATUS_nan_MEAN', u'CC_NAME_CONTRACT_STATUS_nan_SUM',\n",
       "       u'CC_NAME_CONTRACT_STATUS_nan_VAR', u'CC_COUNT'],\n",
       "      dtype='object', length=870)"
      ]
     },
     "execution_count": 15,
     "metadata": {},
     "output_type": "execute_result"
    }
   ],
   "source": [
    "df.columns"
   ]
  },
  {
   "cell_type": "code",
   "execution_count": 2,
   "metadata": {
    "collapsed": true
   },
   "outputs": [],
   "source": [
    "import numpy as np\n",
    "import pandas as pd\n",
    "import gc\n",
    "import time\n",
    "from contextlib import contextmanager\n",
    "import lightgbm as lgb\n",
    "from sklearn.metrics import roc_auc_score, roc_curve\n",
    "from sklearn.model_selection import KFold, StratifiedKFold\n",
    "import matplotlib.pyplot as plt\n",
    "import seaborn as sns\n",
    "import warnings\n",
    "warnings.simplefilter(action='ignore', category=FutureWarning)"
   ]
  },
  {
   "cell_type": "code",
   "execution_count": 35,
   "metadata": {
    "collapsed": false
   },
   "outputs": [
    {
     "name": "stdout",
     "output_type": "stream",
     "text": [
      "Starting LightGBM. Train shape: (307507, 870), test shape: (48744, 870)\n",
      "Fold  1 AUC : 0.784303\n",
      "Fold  2 AUC : 0.780644\n",
      "Fold  3 AUC : 0.783794\n",
      "Fold  4 AUC : 0.781995\n",
      "Fold  5 AUC : 0.787130\n",
      "Full AUC score 0.783476\n"
     ]
    }
   ],
   "source": [
    "# LightGBM GBDT with KFold or Stratified KFold\n",
    "# Parameters from Tilii kernel: https://www.kaggle.com/tilii7/olivier-lightgbm-parameters-by-bayesian-opt/code\n",
    "    # Divide in training/validation and test data\n",
    "train_df = df[df['TARGET'].notnull()]\n",
    "test_df = df[df['TARGET'].isnull()]\n",
    "print(\"Starting LightGBM. Train shape: {}, test shape: {}\".format(train_df.shape, test_df.shape))\n",
    "del df\n",
    "gc.collect()\n",
    "    # Cross validation model\n",
    "folds = KFold(n_splits= 5, shuffle=True, random_state=1001)\n",
    "    # Create arrays and dataframes to store results\n",
    "oof_preds = np.zeros(train_df.shape[0])\n",
    "sub_preds = np.zeros(test_df.shape[0])\n",
    "feature_importance_df = pd.DataFrame()\n",
    "feats = [f for f in train_df.columns if f not in ['TARGET','SK_ID_CURR','SK_ID_BUREAU','SK_ID_PREV','index']]\n",
    "    \n",
    "for n_fold, (train_idx, valid_idx) in enumerate(folds.split(train_df[feats], train_df['TARGET'])):\n",
    "    dtrain = lgb.Dataset(data=train_df[feats].iloc[train_idx], \n",
    "                             label=train_df['TARGET'].iloc[train_idx], \n",
    "                             free_raw_data=False, silent=True)\n",
    "    dvalid = lgb.Dataset(data=train_df[feats].iloc[valid_idx], \n",
    "                             label=train_df['TARGET'].iloc[valid_idx], \n",
    "                             free_raw_data=False, silent=True)\n",
    "\n",
    "        # LightGBM parameters found by Bayesian optimization\n",
    "    params = {\n",
    "            'objective': 'binary',\n",
    "            'boosting_type': 'gbdt',\n",
    "            'nthread': 4,\n",
    "            'learning_rate': 0.02,  \n",
    "            'num_leaves': 20,\n",
    "            'colsample_bytree': 0.9497036,\n",
    "            'subsample': 0.8715623,\n",
    "            'subsample_freq': 1,\n",
    "            'max_depth': 8,\n",
    "            'reg_alpha': 0.041545473,\n",
    "            'reg_lambda': 0.0735294,\n",
    "            'min_split_gain': 0.0222415,\n",
    "            'min_child_weight': 39.3259775, # 60,\n",
    "            'seed': 0,\n",
    "            'verbose': -1,\n",
    "            'metric': 'auc',\n",
    "            #'scale_pos_weight':99.7, # because training data is extremely unbalanced \n",
    "        }\n",
    "        \n",
    "    clf = lgb.train(\n",
    "            params=params,\n",
    "            train_set=dtrain,\n",
    "            num_boost_round=10000,\n",
    "            valid_sets=[dtrain, dvalid],\n",
    "            early_stopping_rounds=200,\n",
    "            verbose_eval=False\n",
    "        )\n",
    "\n",
    "    oof_preds[valid_idx] = clf.predict(dvalid.data)\n",
    "    sub_preds += clf.predict(test_df[feats]) / folds.n_splits\n",
    "\n",
    "    fold_importance_df = pd.DataFrame()\n",
    "    fold_importance_df[\"feature\"] = feats\n",
    "    fold_importance_df[\"importance\"] = clf.feature_importance(importance_type='gain')\n",
    "    fold_importance_df[\"fold\"] = n_fold + 1\n",
    "    feature_importance_df = pd.concat([feature_importance_df, fold_importance_df], axis=0)\n",
    "    print('Fold %2d AUC : %.6f' % (n_fold + 1, roc_auc_score(dvalid.label, oof_preds[valid_idx])))\n",
    "    del clf, dtrain, dvalid\n",
    "    gc.collect()\n",
    "\n",
    "print('Full AUC score %.6f' % roc_auc_score(train_df['TARGET'], oof_preds))\n",
    "    # Write submission file and plot feature importance\n",
    "sub_df = test_df[['SK_ID_CURR']].copy()\n",
    "sub_df['TARGET'] = sub_preds\n",
    "sub_df[['SK_ID_CURR', 'TARGET']].to_csv('submission_full_feature.csv', index= False)\n"
   ]
  },
  {
   "cell_type": "code",
   "execution_count": 36,
   "metadata": {
    "collapsed": false
   },
   "outputs": [
    {
     "data": {
      "image/png": "[encoded data removed]",
      "text/plain": [
       "<matplotlib.figure.Figure at 0x10813dc10>"
      ]
     },
     "metadata": {},
     "output_type": "display_data"
    }
   ],
   "source": [
    "cols = feature_importance_df[[\"feature\", \"importance\"]].groupby(\"feature\").mean().sort_values(by=\"importance\", ascending=False)[:40].index\n",
    "best_features = feature_importance_df.loc[feature_importance_df.feature.isin(cols)]\n",
    "plt.figure(figsize=(8, 10))\n",
    "sns.barplot(x=\"importance\", y=\"feature\", data=best_features.sort_values(by=\"importance\", ascending=False))\n",
    "plt.title('LightGBM Features (avg over folds)')\n",
    "plt.tight_layout\n",
    "plt.savefig('lgbm_importances01.png')\n",
    "plt.show()"
   ]
  },
  {
   "cell_type": "code",
   "execution_count": 37,
   "metadata": {
    "collapsed": true
   },
   "outputs": [],
   "source": [
    "feature_importance_df.to_csv('feature_importance_df.csv', index=False)"
   ]
  },
  {
   "cell_type": "code",
   "execution_count": 38,
   "metadata": {
    "collapsed": false
   },
   "outputs": [],
   "source": [
    "feature=feature_importance_df[[\"feature\", \"importance\"]].groupby(\"feature\").mean().sort_values(by=\"importance\", ascending=False).reset_index()"
   ]
  },
  {
   "cell_type": "code",
   "execution_count": 39,
   "metadata": {
    "collapsed": false
   },
   "outputs": [
    {
     "data": {
      "text/plain": [
       "(867, 2)"
      ]
     },
     "execution_count": 39,
     "metadata": {},
     "output_type": "execute_result"
    }
   ],
   "source": [
    "feature.shape"
   ]
  },
  {
   "cell_type": "code",
   "execution_count": 55,
   "metadata": {
    "collapsed": false
   },
   "outputs": [
    {
     "data": {
      "text/plain": [
       "(145, 2)"
      ]
     },
     "execution_count": 55,
     "metadata": {},
     "output_type": "execute_result"
    }
   ],
   "source": [
    "feature[feature['importance']==0].shape"
   ]
  },
  {
   "cell_type": "code",
   "execution_count": 3,
   "metadata": {
    "collapsed": false
   },
   "outputs": [],
   "source": [
    "feature_importance_df1=pd.read_csv('feature_importance_df.csv')"
   ]
  },
  {
   "cell_type": "code",
   "execution_count": 44,
   "metadata": {
    "collapsed": true
   },
   "outputs": [],
   "source": [
    "feature1=feature_importance_df1[[\"feature\", \"importance\"]].groupby(\"feature\").mean().sort_values(by=\"importance\", ascending=False).reset_index()"
   ]
  },
  {
   "cell_type": "code",
   "execution_count": 57,
   "metadata": {
    "collapsed": false
   },
   "outputs": [
    {
     "data": {
      "text/html": [
       "<div>\n",
       "<table border=\"1\" class=\"dataframe\">\n",
       "  <thead>\n",
       "    <tr style=\"text-align: right;\">\n",
       "      <th></th>\n",
       "      <th>feature</th>\n",
       "      <th>importance</th>\n",
       "      <th>fold</th>\n",
       "    </tr>\n",
       "  </thead>\n",
       "  <tbody>\n",
       "    <tr>\n",
       "      <th>0</th>\n",
       "      <td>AMT_ANNUITY</td>\n",
       "      <td>10564.228517</td>\n",
       "      <td>1</td>\n",
       "    </tr>\n",
       "    <tr>\n",
       "      <th>1</th>\n",
       "      <td>AMT_CREDIT</td>\n",
       "      <td>3746.780886</td>\n",
       "      <td>1</td>\n",
       "    </tr>\n",
       "    <tr>\n",
       "      <th>2</th>\n",
       "      <td>AMT_GOODS_PRICE</td>\n",
       "      <td>4730.013168</td>\n",
       "      <td>1</td>\n",
       "    </tr>\n",
       "    <tr>\n",
       "      <th>3</th>\n",
       "      <td>AMT_INCOME_TOTAL</td>\n",
       "      <td>1314.716235</td>\n",
       "      <td>1</td>\n",
       "    </tr>\n",
       "    <tr>\n",
       "      <th>4</th>\n",
       "      <td>AMT_REQ_CREDIT_BUREAU_DAY</td>\n",
       "      <td>47.266788</td>\n",
       "      <td>1</td>\n",
       "    </tr>\n",
       "  </tbody>\n",
       "</table>\n",
       "</div>"
      ],
      "text/plain": [
       "                     feature    importance  fold\n",
       "0                AMT_ANNUITY  10564.228517     1\n",
       "1                 AMT_CREDIT   3746.780886     1\n",
       "2            AMT_GOODS_PRICE   4730.013168     1\n",
       "3           AMT_INCOME_TOTAL   1314.716235     1\n",
       "4  AMT_REQ_CREDIT_BUREAU_DAY     47.266788     1"
      ]
     },
     "execution_count": 57,
     "metadata": {},
     "output_type": "execute_result"
    }
   ],
   "source": [
    "feature_importance_df1.head()"
   ]
  },
  {
   "cell_type": "code",
   "execution_count": 4,
   "metadata": {
    "collapsed": true
   },
   "outputs": [],
   "source": [
    "df1=feature_importance_df1[feature_importance_df1['fold']==1]"
   ]
  },
  {
   "cell_type": "code",
   "execution_count": 5,
   "metadata": {
    "collapsed": false
   },
   "outputs": [
    {
     "name": "stderr",
     "output_type": "stream",
     "text": [
      "/Users/shuozhang/anaconda/lib/python2.7/site-packages/ipykernel_launcher.py:1: SettingWithCopyWarning: \n",
      "A value is trying to be set on a copy of a slice from a DataFrame.\n",
      "Try using .loc[row_indexer,col_indexer] = value instead\n",
      "\n",
      "See the caveats in the documentation: http://pandas.pydata.org/pandas-docs/stable/indexing.html#indexing-view-versus-copy\n",
      "  \"\"\"Entry point for launching an IPython kernel.\n"
     ]
    }
   ],
   "source": [
    "df1['im1'] = np.where(df1['importance']==0, 1, 0)"
   ]
  },
  {
   "cell_type": "code",
   "execution_count": 6,
   "metadata": {
    "collapsed": true
   },
   "outputs": [],
   "source": [
    "df2=feature_importance_df1[feature_importance_df1['fold']==2]"
   ]
  },
  {
   "cell_type": "code",
   "execution_count": 7,
   "metadata": {
    "collapsed": false
   },
   "outputs": [
    {
     "name": "stderr",
     "output_type": "stream",
     "text": [
      "/Users/shuozhang/anaconda/lib/python2.7/site-packages/ipykernel_launcher.py:1: SettingWithCopyWarning: \n",
      "A value is trying to be set on a copy of a slice from a DataFrame.\n",
      "Try using .loc[row_indexer,col_indexer] = value instead\n",
      "\n",
      "See the caveats in the documentation: http://pandas.pydata.org/pandas-docs/stable/indexing.html#indexing-view-versus-copy\n",
      "  \"\"\"Entry point for launching an IPython kernel.\n"
     ]
    }
   ],
   "source": [
    "df2['im2'] = np.where(df2['importance']==0, 1, 0)"
   ]
  },
  {
   "cell_type": "code",
   "execution_count": 8,
   "metadata": {
    "collapsed": true
   },
   "outputs": [],
   "source": [
    "df3=feature_importance_df1[feature_importance_df1['fold']==3]"
   ]
  },
  {
   "cell_type": "code",
   "execution_count": 9,
   "metadata": {
    "collapsed": false
   },
   "outputs": [
    {
     "name": "stderr",
     "output_type": "stream",
     "text": [
      "/Users/shuozhang/anaconda/lib/python2.7/site-packages/ipykernel_launcher.py:1: SettingWithCopyWarning: \n",
      "A value is trying to be set on a copy of a slice from a DataFrame.\n",
      "Try using .loc[row_indexer,col_indexer] = value instead\n",
      "\n",
      "See the caveats in the documentation: http://pandas.pydata.org/pandas-docs/stable/indexing.html#indexing-view-versus-copy\n",
      "  \"\"\"Entry point for launching an IPython kernel.\n"
     ]
    }
   ],
   "source": [
    "df3['im3'] = np.where(df3['importance']==0, 1, 0)"
   ]
  },
  {
   "cell_type": "code",
   "execution_count": 10,
   "metadata": {
    "collapsed": true
   },
   "outputs": [],
   "source": [
    "df4=feature_importance_df1[feature_importance_df1['fold']==4]"
   ]
  },
  {
   "cell_type": "code",
   "execution_count": 11,
   "metadata": {
    "collapsed": false
   },
   "outputs": [
    {
     "name": "stderr",
     "output_type": "stream",
     "text": [
      "/Users/shuozhang/anaconda/lib/python2.7/site-packages/ipykernel_launcher.py:1: SettingWithCopyWarning: \n",
      "A value is trying to be set on a copy of a slice from a DataFrame.\n",
      "Try using .loc[row_indexer,col_indexer] = value instead\n",
      "\n",
      "See the caveats in the documentation: http://pandas.pydata.org/pandas-docs/stable/indexing.html#indexing-view-versus-copy\n",
      "  \"\"\"Entry point for launching an IPython kernel.\n"
     ]
    }
   ],
   "source": [
    "df4['im4'] = np.where(df4['importance']==0, 1, 0)"
   ]
  },
  {
   "cell_type": "code",
   "execution_count": 12,
   "metadata": {
    "collapsed": true
   },
   "outputs": [],
   "source": [
    "df5=feature_importance_df1[feature_importance_df1['fold']==5]"
   ]
  },
  {
   "cell_type": "code",
   "execution_count": 13,
   "metadata": {
    "collapsed": false
   },
   "outputs": [
    {
     "name": "stderr",
     "output_type": "stream",
     "text": [
      "/Users/shuozhang/anaconda/lib/python2.7/site-packages/ipykernel_launcher.py:1: SettingWithCopyWarning: \n",
      "A value is trying to be set on a copy of a slice from a DataFrame.\n",
      "Try using .loc[row_indexer,col_indexer] = value instead\n",
      "\n",
      "See the caveats in the documentation: http://pandas.pydata.org/pandas-docs/stable/indexing.html#indexing-view-versus-copy\n",
      "  \"\"\"Entry point for launching an IPython kernel.\n"
     ]
    }
   ],
   "source": [
    "df5['im5'] = np.where(df5['importance']==0, 1, 0)"
   ]
  },
  {
   "cell_type": "code",
   "execution_count": 14,
   "metadata": {
    "collapsed": true
   },
   "outputs": [],
   "source": [
    "# final dataset"
   ]
  },
  {
   "cell_type": "code",
   "execution_count": 15,
   "metadata": {
    "collapsed": true
   },
   "outputs": [],
   "source": [
    "from functools import reduce"
   ]
  },
  {
   "cell_type": "code",
   "execution_count": 16,
   "metadata": {
    "collapsed": false
   },
   "outputs": [],
   "source": [
    "dfs = [df1, df2, df3, df4,df5]\n",
    "df_final = reduce(lambda left,right: pd.merge(left,right,on='feature'), dfs)"
   ]
  },
  {
   "cell_type": "code",
   "execution_count": 17,
   "metadata": {
    "collapsed": false
   },
   "outputs": [
    {
     "data": {
      "text/html": [
       "<div>\n",
       "<table border=\"1\" class=\"dataframe\">\n",
       "  <thead>\n",
       "    <tr style=\"text-align: right;\">\n",
       "      <th></th>\n",
       "      <th>feature</th>\n",
       "      <th>importance_x</th>\n",
       "      <th>fold_x</th>\n",
       "      <th>im1</th>\n",
       "      <th>importance_y</th>\n",
       "      <th>fold_y</th>\n",
       "      <th>im2</th>\n",
       "      <th>importance_x</th>\n",
       "      <th>fold_x</th>\n",
       "      <th>im3</th>\n",
       "      <th>importance_y</th>\n",
       "      <th>fold_y</th>\n",
       "      <th>im4</th>\n",
       "      <th>importance</th>\n",
       "      <th>fold</th>\n",
       "      <th>im5</th>\n",
       "    </tr>\n",
       "  </thead>\n",
       "  <tbody>\n",
       "    <tr>\n",
       "      <th>0</th>\n",
       "      <td>AMT_ANNUITY</td>\n",
       "      <td>10564.228517</td>\n",
       "      <td>1</td>\n",
       "      <td>0</td>\n",
       "      <td>10824.364928</td>\n",
       "      <td>2</td>\n",
       "      <td>0</td>\n",
       "      <td>9885.607468</td>\n",
       "      <td>3</td>\n",
       "      <td>0</td>\n",
       "      <td>10958.423499</td>\n",
       "      <td>4</td>\n",
       "      <td>0</td>\n",
       "      <td>9525.104483</td>\n",
       "      <td>5</td>\n",
       "      <td>0</td>\n",
       "    </tr>\n",
       "    <tr>\n",
       "      <th>1</th>\n",
       "      <td>AMT_CREDIT</td>\n",
       "      <td>3746.780886</td>\n",
       "      <td>1</td>\n",
       "      <td>0</td>\n",
       "      <td>3874.599320</td>\n",
       "      <td>2</td>\n",
       "      <td>0</td>\n",
       "      <td>4599.776300</td>\n",
       "      <td>3</td>\n",
       "      <td>0</td>\n",
       "      <td>4955.597095</td>\n",
       "      <td>4</td>\n",
       "      <td>0</td>\n",
       "      <td>3360.395167</td>\n",
       "      <td>5</td>\n",
       "      <td>0</td>\n",
       "    </tr>\n",
       "    <tr>\n",
       "      <th>2</th>\n",
       "      <td>AMT_GOODS_PRICE</td>\n",
       "      <td>4730.013168</td>\n",
       "      <td>1</td>\n",
       "      <td>0</td>\n",
       "      <td>5013.651244</td>\n",
       "      <td>2</td>\n",
       "      <td>0</td>\n",
       "      <td>4841.064897</td>\n",
       "      <td>3</td>\n",
       "      <td>0</td>\n",
       "      <td>5882.973613</td>\n",
       "      <td>4</td>\n",
       "      <td>0</td>\n",
       "      <td>5616.701485</td>\n",
       "      <td>5</td>\n",
       "      <td>0</td>\n",
       "    </tr>\n",
       "    <tr>\n",
       "      <th>3</th>\n",
       "      <td>AMT_INCOME_TOTAL</td>\n",
       "      <td>1314.716235</td>\n",
       "      <td>1</td>\n",
       "      <td>0</td>\n",
       "      <td>1195.625460</td>\n",
       "      <td>2</td>\n",
       "      <td>0</td>\n",
       "      <td>1409.586544</td>\n",
       "      <td>3</td>\n",
       "      <td>0</td>\n",
       "      <td>2020.514975</td>\n",
       "      <td>4</td>\n",
       "      <td>0</td>\n",
       "      <td>1536.818032</td>\n",
       "      <td>5</td>\n",
       "      <td>0</td>\n",
       "    </tr>\n",
       "    <tr>\n",
       "      <th>4</th>\n",
       "      <td>AMT_REQ_CREDIT_BUREAU_DAY</td>\n",
       "      <td>47.266788</td>\n",
       "      <td>1</td>\n",
       "      <td>0</td>\n",
       "      <td>8.950356</td>\n",
       "      <td>2</td>\n",
       "      <td>0</td>\n",
       "      <td>164.603514</td>\n",
       "      <td>3</td>\n",
       "      <td>0</td>\n",
       "      <td>102.880496</td>\n",
       "      <td>4</td>\n",
       "      <td>0</td>\n",
       "      <td>38.430411</td>\n",
       "      <td>5</td>\n",
       "      <td>0</td>\n",
       "    </tr>\n",
       "  </tbody>\n",
       "</table>\n",
       "</div>"
      ],
      "text/plain": [
       "                     feature  importance_x  fold_x  im1  importance_y  fold_y  \\\n",
       "0                AMT_ANNUITY  10564.228517       1    0  10824.364928       2   \n",
       "1                 AMT_CREDIT   3746.780886       1    0   3874.599320       2   \n",
       "2            AMT_GOODS_PRICE   4730.013168       1    0   5013.651244       2   \n",
       "3           AMT_INCOME_TOTAL   1314.716235       1    0   1195.625460       2   \n",
       "4  AMT_REQ_CREDIT_BUREAU_DAY     47.266788       1    0      8.950356       2   \n",
       "\n",
       "   im2  importance_x  fold_x  im3  importance_y  fold_y  im4   importance  \\\n",
       "0    0   9885.607468       3    0  10958.423499       4    0  9525.104483   \n",
       "1    0   4599.776300       3    0   4955.597095       4    0  3360.395167   \n",
       "2    0   4841.064897       3    0   5882.973613       4    0  5616.701485   \n",
       "3    0   1409.586544       3    0   2020.514975       4    0  1536.818032   \n",
       "4    0    164.603514       3    0    102.880496       4    0    38.430411   \n",
       "\n",
       "   fold  im5  \n",
       "0     5    0  \n",
       "1     5    0  \n",
       "2     5    0  \n",
       "3     5    0  \n",
       "4     5    0  "
      ]
     },
     "execution_count": 17,
     "metadata": {},
     "output_type": "execute_result"
    }
   ],
   "source": [
    "df_final.head()"
   ]
  },
  {
   "cell_type": "code",
   "execution_count": 18,
   "metadata": {
    "collapsed": true
   },
   "outputs": [],
   "source": [
    "df_final['sumim']=df_final['im1']+df_final['im2']+df_final['im3']+df_final['im4']+df_final['im5']"
   ]
  },
  {
   "cell_type": "code",
   "execution_count": 19,
   "metadata": {
    "collapsed": false
   },
   "outputs": [
    {
     "data": {
      "text/plain": [
       "(235, 17)"
      ]
     },
     "execution_count": 19,
     "metadata": {},
     "output_type": "execute_result"
    }
   ],
   "source": [
    "df_final[df_final['sumim']>=2].shape"
   ]
  },
  {
   "cell_type": "code",
   "execution_count": 20,
   "metadata": {
    "collapsed": true
   },
   "outputs": [],
   "source": [
    "no_contribute_feature=df_final[df_final['sumim']>=2]['feature']"
   ]
  },
  {
   "cell_type": "code",
   "execution_count": 25,
   "metadata": {
    "collapsed": false
   },
   "outputs": [],
   "source": [
    "# drop feature\n",
    "df=pd.read_csv('df.csv')\n",
    "df.drop(no_contribute_feature, axis=1, inplace=True)"
   ]
  },
  {
   "cell_type": "code",
   "execution_count": 26,
   "metadata": {
    "collapsed": true
   },
   "outputs": [],
   "source": [
    "df.to_csv('df_select_feature.csv', index=False)"
   ]
  },
  {
   "cell_type": "code",
   "execution_count": null,
   "metadata": {
    "collapsed": true
   },
   "outputs": [],
   "source": [
    "# check missing values;\n",
    "total = df.isnull().sum().sort_values(ascending = False)\n",
    "percent = (df.isnull().sum()/df.isnull().count()*100).sort_values(ascending = False)\n",
    "missing_df_data  = pd.concat([total, percent], axis=1, keys=['Total', 'Percent'])"
   ]
  },
  {
   "cell_type": "code",
   "execution_count": 34,
   "metadata": {
    "collapsed": false
   },
   "outputs": [
    {
     "data": {
      "text/html": [
       "<div>\n",
       "<table border=\"1\" class=\"dataframe\">\n",
       "  <thead>\n",
       "    <tr style=\"text-align: right;\">\n",
       "      <th></th>\n",
       "      <th>Total</th>\n",
       "      <th>Percent</th>\n",
       "    </tr>\n",
       "  </thead>\n",
       "  <tbody>\n",
       "    <tr>\n",
       "      <th>NEW_RATIO_BURO_CNT_CREDIT_PROLONG_SUM</th>\n",
       "      <td>348556</td>\n",
       "      <td>97.840006</td>\n",
       "    </tr>\n",
       "    <tr>\n",
       "      <th>NEW_RATIO_BURO_MONTHS_BALANCE_MAX_MAX</th>\n",
       "      <td>342441</td>\n",
       "      <td>96.123520</td>\n",
       "    </tr>\n",
       "    <tr>\n",
       "      <th>NEW_RATIO_PREV_AMT_DOWN_PAYMENT_MIN</th>\n",
       "      <td>329592</td>\n",
       "      <td>92.516793</td>\n",
       "    </tr>\n",
       "    <tr>\n",
       "      <th>NEW_RATIO_PREV_RATE_DOWN_PAYMENT_MIN</th>\n",
       "      <td>329592</td>\n",
       "      <td>92.516793</td>\n",
       "    </tr>\n",
       "    <tr>\n",
       "      <th>NEW_RATIO_PREV_RATE_DOWN_PAYMENT_MAX</th>\n",
       "      <td>313295</td>\n",
       "      <td>87.942209</td>\n",
       "    </tr>\n",
       "    <tr>\n",
       "      <th>NEW_RATIO_PREV_AMT_DOWN_PAYMENT_MAX</th>\n",
       "      <td>313295</td>\n",
       "      <td>87.942209</td>\n",
       "    </tr>\n",
       "    <tr>\n",
       "      <th>NEW_RATIO_PREV_AMT_DOWN_PAYMENT_MEAN</th>\n",
       "      <td>313295</td>\n",
       "      <td>87.942209</td>\n",
       "    </tr>\n",
       "    <tr>\n",
       "      <th>NEW_RATIO_PREV_RATE_DOWN_PAYMENT_MEAN</th>\n",
       "      <td>313295</td>\n",
       "      <td>87.942209</td>\n",
       "    </tr>\n",
       "    <tr>\n",
       "      <th>NEW_RATIO_BURO_AMT_CREDIT_MAX_OVERDUE_MEAN</th>\n",
       "      <td>310048</td>\n",
       "      <td>87.030773</td>\n",
       "    </tr>\n",
       "    <tr>\n",
       "      <th>NEW_RATIO_BURO_AMT_CREDIT_SUM_LIMIT_MEAN</th>\n",
       "      <td>309428</td>\n",
       "      <td>86.856739</td>\n",
       "    </tr>\n",
       "    <tr>\n",
       "      <th>NEW_RATIO_BURO_AMT_CREDIT_SUM_LIMIT_SUM</th>\n",
       "      <td>309428</td>\n",
       "      <td>86.856739</td>\n",
       "    </tr>\n",
       "    <tr>\n",
       "      <th>NEW_RATIO_PREV_APP_CREDIT_PERC_VAR</th>\n",
       "      <td>304907</td>\n",
       "      <td>85.587690</td>\n",
       "    </tr>\n",
       "    <tr>\n",
       "      <th>REFUSED_AMT_DOWN_PAYMENT_MIN</th>\n",
       "      <td>303648</td>\n",
       "      <td>85.234287</td>\n",
       "    </tr>\n",
       "    <tr>\n",
       "      <th>REFUSED_AMT_DOWN_PAYMENT_MAX</th>\n",
       "      <td>303648</td>\n",
       "      <td>85.234287</td>\n",
       "    </tr>\n",
       "    <tr>\n",
       "      <th>REFUSED_AMT_DOWN_PAYMENT_MEAN</th>\n",
       "      <td>303648</td>\n",
       "      <td>85.234287</td>\n",
       "    </tr>\n",
       "    <tr>\n",
       "      <th>REFUSED_RATE_DOWN_PAYMENT_MIN</th>\n",
       "      <td>303648</td>\n",
       "      <td>85.234287</td>\n",
       "    </tr>\n",
       "    <tr>\n",
       "      <th>REFUSED_RATE_DOWN_PAYMENT_MAX</th>\n",
       "      <td>303648</td>\n",
       "      <td>85.234287</td>\n",
       "    </tr>\n",
       "    <tr>\n",
       "      <th>REFUSED_RATE_DOWN_PAYMENT_MEAN</th>\n",
       "      <td>303648</td>\n",
       "      <td>85.234287</td>\n",
       "    </tr>\n",
       "    <tr>\n",
       "      <th>REFUSED_APP_CREDIT_PERC_VAR</th>\n",
       "      <td>298034</td>\n",
       "      <td>83.658432</td>\n",
       "    </tr>\n",
       "    <tr>\n",
       "      <th>NEW_RATIO_BURO_AMT_ANNUITY_MAX</th>\n",
       "      <td>295549</td>\n",
       "      <td>82.960890</td>\n",
       "    </tr>\n",
       "    <tr>\n",
       "      <th>NEW_RATIO_BURO_AMT_ANNUITY_MEAN</th>\n",
       "      <td>295549</td>\n",
       "      <td>82.960890</td>\n",
       "    </tr>\n",
       "    <tr>\n",
       "      <th>CC_AMT_PAYMENT_CURRENT_VAR</th>\n",
       "      <td>284649</td>\n",
       "      <td>79.901249</td>\n",
       "    </tr>\n",
       "    <tr>\n",
       "      <th>CC_AMT_DRAWINGS_ATM_CURRENT_VAR</th>\n",
       "      <td>284559</td>\n",
       "      <td>79.875986</td>\n",
       "    </tr>\n",
       "    <tr>\n",
       "      <th>CC_AMT_DRAWINGS_OTHER_CURRENT_VAR</th>\n",
       "      <td>284559</td>\n",
       "      <td>79.875986</td>\n",
       "    </tr>\n",
       "    <tr>\n",
       "      <th>CC_CNT_DRAWINGS_ATM_CURRENT_VAR</th>\n",
       "      <td>284559</td>\n",
       "      <td>79.875986</td>\n",
       "    </tr>\n",
       "    <tr>\n",
       "      <th>CC_CNT_DRAWINGS_OTHER_CURRENT_VAR</th>\n",
       "      <td>284559</td>\n",
       "      <td>79.875986</td>\n",
       "    </tr>\n",
       "    <tr>\n",
       "      <th>CC_CNT_DRAWINGS_POS_CURRENT_VAR</th>\n",
       "      <td>284559</td>\n",
       "      <td>79.875986</td>\n",
       "    </tr>\n",
       "    <tr>\n",
       "      <th>CC_AMT_DRAWINGS_POS_CURRENT_VAR</th>\n",
       "      <td>284559</td>\n",
       "      <td>79.875986</td>\n",
       "    </tr>\n",
       "    <tr>\n",
       "      <th>CC_AMT_PAYMENT_CURRENT_SUM</th>\n",
       "      <td>284131</td>\n",
       "      <td>79.755846</td>\n",
       "    </tr>\n",
       "    <tr>\n",
       "      <th>CC_AMT_PAYMENT_CURRENT_MEAN</th>\n",
       "      <td>284131</td>\n",
       "      <td>79.755846</td>\n",
       "    </tr>\n",
       "    <tr>\n",
       "      <th>...</th>\n",
       "      <td>...</td>\n",
       "      <td>...</td>\n",
       "    </tr>\n",
       "    <tr>\n",
       "      <th>INSTAL_PAYMENT_DIFF_MAX</th>\n",
       "      <td>16677</td>\n",
       "      <td>4.681250</td>\n",
       "    </tr>\n",
       "    <tr>\n",
       "      <th>INSTAL_PAYMENT_DIFF_MEAN</th>\n",
       "      <td>16677</td>\n",
       "      <td>4.681250</td>\n",
       "    </tr>\n",
       "    <tr>\n",
       "      <th>INSTAL_DAYS_ENTRY_PAYMENT_MAX</th>\n",
       "      <td>16677</td>\n",
       "      <td>4.681250</td>\n",
       "    </tr>\n",
       "    <tr>\n",
       "      <th>INSTAL_DAYS_ENTRY_PAYMENT_MEAN</th>\n",
       "      <td>16677</td>\n",
       "      <td>4.681250</td>\n",
       "    </tr>\n",
       "    <tr>\n",
       "      <th>INSTAL_DBD_MAX</th>\n",
       "      <td>16668</td>\n",
       "      <td>4.678724</td>\n",
       "    </tr>\n",
       "    <tr>\n",
       "      <th>INSTAL_AMT_INSTALMENT_MAX</th>\n",
       "      <td>16668</td>\n",
       "      <td>4.678724</td>\n",
       "    </tr>\n",
       "    <tr>\n",
       "      <th>INSTAL_DPD_MEAN</th>\n",
       "      <td>16668</td>\n",
       "      <td>4.678724</td>\n",
       "    </tr>\n",
       "    <tr>\n",
       "      <th>INSTAL_AMT_INSTALMENT_SUM</th>\n",
       "      <td>16668</td>\n",
       "      <td>4.678724</td>\n",
       "    </tr>\n",
       "    <tr>\n",
       "      <th>INSTAL_AMT_INSTALMENT_MEAN</th>\n",
       "      <td>16668</td>\n",
       "      <td>4.678724</td>\n",
       "    </tr>\n",
       "    <tr>\n",
       "      <th>INSTAL_NUM_INSTALMENT_VERSION_NUNIQUE</th>\n",
       "      <td>16668</td>\n",
       "      <td>4.678724</td>\n",
       "    </tr>\n",
       "    <tr>\n",
       "      <th>INSTAL_DPD_SUM</th>\n",
       "      <td>16668</td>\n",
       "      <td>4.678724</td>\n",
       "    </tr>\n",
       "    <tr>\n",
       "      <th>INSTAL_COUNT</th>\n",
       "      <td>16668</td>\n",
       "      <td>4.678724</td>\n",
       "    </tr>\n",
       "    <tr>\n",
       "      <th>INSTAL_DBD_SUM</th>\n",
       "      <td>16668</td>\n",
       "      <td>4.678724</td>\n",
       "    </tr>\n",
       "    <tr>\n",
       "      <th>INSTAL_DBD_MEAN</th>\n",
       "      <td>16668</td>\n",
       "      <td>4.678724</td>\n",
       "    </tr>\n",
       "    <tr>\n",
       "      <th>INSTAL_DPD_MAX</th>\n",
       "      <td>16668</td>\n",
       "      <td>4.678724</td>\n",
       "    </tr>\n",
       "    <tr>\n",
       "      <th>OBS_60_CNT_SOCIAL_CIRCLE</th>\n",
       "      <td>1050</td>\n",
       "      <td>0.294736</td>\n",
       "    </tr>\n",
       "    <tr>\n",
       "      <th>DEF_30_CNT_SOCIAL_CIRCLE</th>\n",
       "      <td>1050</td>\n",
       "      <td>0.294736</td>\n",
       "    </tr>\n",
       "    <tr>\n",
       "      <th>OBS_30_CNT_SOCIAL_CIRCLE</th>\n",
       "      <td>1050</td>\n",
       "      <td>0.294736</td>\n",
       "    </tr>\n",
       "    <tr>\n",
       "      <th>DEF_60_CNT_SOCIAL_CIRCLE</th>\n",
       "      <td>1050</td>\n",
       "      <td>0.294736</td>\n",
       "    </tr>\n",
       "    <tr>\n",
       "      <th>EXT_SOURCE_2</th>\n",
       "      <td>668</td>\n",
       "      <td>0.187508</td>\n",
       "    </tr>\n",
       "    <tr>\n",
       "      <th>NEW_CREDIT_TO_GOODS_RATIO</th>\n",
       "      <td>278</td>\n",
       "      <td>0.078035</td>\n",
       "    </tr>\n",
       "    <tr>\n",
       "      <th>AMT_GOODS_PRICE</th>\n",
       "      <td>278</td>\n",
       "      <td>0.078035</td>\n",
       "    </tr>\n",
       "    <tr>\n",
       "      <th>NEW_EXT_SOURCES_MEAN</th>\n",
       "      <td>179</td>\n",
       "      <td>0.050245</td>\n",
       "    </tr>\n",
       "    <tr>\n",
       "      <th>NEW_CREDIT_TO_ANNUITY_RATIO</th>\n",
       "      <td>36</td>\n",
       "      <td>0.010105</td>\n",
       "    </tr>\n",
       "    <tr>\n",
       "      <th>NEW_ANNUITY_TO_INCOME_RATIO</th>\n",
       "      <td>36</td>\n",
       "      <td>0.010105</td>\n",
       "    </tr>\n",
       "    <tr>\n",
       "      <th>AMT_ANNUITY</th>\n",
       "      <td>36</td>\n",
       "      <td>0.010105</td>\n",
       "    </tr>\n",
       "    <tr>\n",
       "      <th>CNT_FAM_MEMBERS</th>\n",
       "      <td>2</td>\n",
       "      <td>0.000561</td>\n",
       "    </tr>\n",
       "    <tr>\n",
       "      <th>DAYS_LAST_PHONE_CHANGE</th>\n",
       "      <td>1</td>\n",
       "      <td>0.000281</td>\n",
       "    </tr>\n",
       "    <tr>\n",
       "      <th>NEW_PHONE_TO_BIRTH_RATIO</th>\n",
       "      <td>1</td>\n",
       "      <td>0.000281</td>\n",
       "    </tr>\n",
       "    <tr>\n",
       "      <th>REG_CITY_NOT_LIVE_CITY</th>\n",
       "      <td>0</td>\n",
       "      <td>0.000000</td>\n",
       "    </tr>\n",
       "  </tbody>\n",
       "</table>\n",
       "<p>536 rows × 2 columns</p>\n",
       "</div>"
      ],
      "text/plain": [
       "                                             Total    Percent\n",
       "NEW_RATIO_BURO_CNT_CREDIT_PROLONG_SUM       348556  97.840006\n",
       "NEW_RATIO_BURO_MONTHS_BALANCE_MAX_MAX       342441  96.123520\n",
       "NEW_RATIO_PREV_AMT_DOWN_PAYMENT_MIN         329592  92.516793\n",
       "NEW_RATIO_PREV_RATE_DOWN_PAYMENT_MIN        329592  92.516793\n",
       "NEW_RATIO_PREV_RATE_DOWN_PAYMENT_MAX        313295  87.942209\n",
       "NEW_RATIO_PREV_AMT_DOWN_PAYMENT_MAX         313295  87.942209\n",
       "NEW_RATIO_PREV_AMT_DOWN_PAYMENT_MEAN        313295  87.942209\n",
       "NEW_RATIO_PREV_RATE_DOWN_PAYMENT_MEAN       313295  87.942209\n",
       "NEW_RATIO_BURO_AMT_CREDIT_MAX_OVERDUE_MEAN  310048  87.030773\n",
       "NEW_RATIO_BURO_AMT_CREDIT_SUM_LIMIT_MEAN    309428  86.856739\n",
       "NEW_RATIO_BURO_AMT_CREDIT_SUM_LIMIT_SUM     309428  86.856739\n",
       "NEW_RATIO_PREV_APP_CREDIT_PERC_VAR          304907  85.587690\n",
       "REFUSED_AMT_DOWN_PAYMENT_MIN                303648  85.234287\n",
       "REFUSED_AMT_DOWN_PAYMENT_MAX                303648  85.234287\n",
       "REFUSED_AMT_DOWN_PAYMENT_MEAN               303648  85.234287\n",
       "REFUSED_RATE_DOWN_PAYMENT_MIN               303648  85.234287\n",
       "REFUSED_RATE_DOWN_PAYMENT_MAX               303648  85.234287\n",
       "REFUSED_RATE_DOWN_PAYMENT_MEAN              303648  85.234287\n",
       "REFUSED_APP_CREDIT_PERC_VAR                 298034  83.658432\n",
       "NEW_RATIO_BURO_AMT_ANNUITY_MAX              295549  82.960890\n",
       "NEW_RATIO_BURO_AMT_ANNUITY_MEAN             295549  82.960890\n",
       "CC_AMT_PAYMENT_CURRENT_VAR                  284649  79.901249\n",
       "CC_AMT_DRAWINGS_ATM_CURRENT_VAR             284559  79.875986\n",
       "CC_AMT_DRAWINGS_OTHER_CURRENT_VAR           284559  79.875986\n",
       "CC_CNT_DRAWINGS_ATM_CURRENT_VAR             284559  79.875986\n",
       "CC_CNT_DRAWINGS_OTHER_CURRENT_VAR           284559  79.875986\n",
       "CC_CNT_DRAWINGS_POS_CURRENT_VAR             284559  79.875986\n",
       "CC_AMT_DRAWINGS_POS_CURRENT_VAR             284559  79.875986\n",
       "CC_AMT_PAYMENT_CURRENT_SUM                  284131  79.755846\n",
       "CC_AMT_PAYMENT_CURRENT_MEAN                 284131  79.755846\n",
       "...                                            ...        ...\n",
       "INSTAL_PAYMENT_DIFF_MAX                      16677   4.681250\n",
       "INSTAL_PAYMENT_DIFF_MEAN                     16677   4.681250\n",
       "INSTAL_DAYS_ENTRY_PAYMENT_MAX                16677   4.681250\n",
       "INSTAL_DAYS_ENTRY_PAYMENT_MEAN               16677   4.681250\n",
       "INSTAL_DBD_MAX                               16668   4.678724\n",
       "INSTAL_AMT_INSTALMENT_MAX                    16668   4.678724\n",
       "INSTAL_DPD_MEAN                              16668   4.678724\n",
       "INSTAL_AMT_INSTALMENT_SUM                    16668   4.678724\n",
       "INSTAL_AMT_INSTALMENT_MEAN                   16668   4.678724\n",
       "INSTAL_NUM_INSTALMENT_VERSION_NUNIQUE        16668   4.678724\n",
       "INSTAL_DPD_SUM                               16668   4.678724\n",
       "INSTAL_COUNT                                 16668   4.678724\n",
       "INSTAL_DBD_SUM                               16668   4.678724\n",
       "INSTAL_DBD_MEAN                              16668   4.678724\n",
       "INSTAL_DPD_MAX                               16668   4.678724\n",
       "OBS_60_CNT_SOCIAL_CIRCLE                      1050   0.294736\n",
       "DEF_30_CNT_SOCIAL_CIRCLE                      1050   0.294736\n",
       "OBS_30_CNT_SOCIAL_CIRCLE                      1050   0.294736\n",
       "DEF_60_CNT_SOCIAL_CIRCLE                      1050   0.294736\n",
       "EXT_SOURCE_2                                   668   0.187508\n",
       "NEW_CREDIT_TO_GOODS_RATIO                      278   0.078035\n",
       "AMT_GOODS_PRICE                                278   0.078035\n",
       "NEW_EXT_SOURCES_MEAN                           179   0.050245\n",
       "NEW_CREDIT_TO_ANNUITY_RATIO                     36   0.010105\n",
       "NEW_ANNUITY_TO_INCOME_RATIO                     36   0.010105\n",
       "AMT_ANNUITY                                     36   0.010105\n",
       "CNT_FAM_MEMBERS                                  2   0.000561\n",
       "DAYS_LAST_PHONE_CHANGE                           1   0.000281\n",
       "NEW_PHONE_TO_BIRTH_RATIO                         1   0.000281\n",
       "REG_CITY_NOT_LIVE_CITY                           0   0.000000\n",
       "\n",
       "[536 rows x 2 columns]"
      ]
     },
     "execution_count": 34,
     "metadata": {},
     "output_type": "execute_result"
    }
   ],
   "source": [
    "missing_df_data.head(536)"
   ]
  },
  {
   "cell_type": "code",
   "execution_count": 22,
   "metadata": {
    "collapsed": false
   },
   "outputs": [
    {
     "name": "stdout",
     "output_type": "stream",
     "text": [
      "Starting LightGBM. Train shape: (307507, 635), test shape: (48744, 635)\n",
      "Fold  1 AUC : 0.793524\n",
      "Fold  2 AUC : 0.790307\n",
      "Fold  3 AUC : 0.791962\n",
      "Fold  4 AUC : 0.791247\n",
      "Fold  5 AUC : 0.795249\n",
      "Full AUC score 0.792438\n"
     ]
    }
   ],
   "source": [
    "# LightGBM GBDT with KFold or Stratified KFold\n",
    "# Parameters from Tilii kernel: https://www.kaggle.com/tilii7/olivier-lightgbm-parameters-by-bayesian-opt/code\n",
    "    # Divide in training/validation and test data\n",
    "train_df = df[df['TARGET'].notnull()]\n",
    "test_df = df[df['TARGET'].isnull()]\n",
    "print(\"Starting LightGBM. Train shape: {}, test shape: {}\".format(train_df.shape, test_df.shape))\n",
    "del df\n",
    "gc.collect()\n",
    "    # Cross validation model\n",
    "folds = KFold(n_splits= 5, shuffle=True, random_state=1001)\n",
    "    # Create arrays and dataframes to store results\n",
    "oof_preds = np.zeros(train_df.shape[0])\n",
    "sub_preds = np.zeros(test_df.shape[0])\n",
    "feature_importance_df = pd.DataFrame()\n",
    "feats = [f for f in train_df.columns if f not in ['TARGET','SK_ID_CURR','SK_ID_BUREAU','SK_ID_PREV','index']]\n",
    "    \n",
    "for n_fold, (train_idx, valid_idx) in enumerate(folds.split(train_df[feats], train_df['TARGET'])):\n",
    "    dtrain = lgb.Dataset(data=train_df[feats].iloc[train_idx], \n",
    "                             label=train_df['TARGET'].iloc[train_idx], \n",
    "                             free_raw_data=False, silent=True)\n",
    "    dvalid = lgb.Dataset(data=train_df[feats].iloc[valid_idx], \n",
    "                             label=train_df['TARGET'].iloc[valid_idx], \n",
    "                             free_raw_data=False, silent=True)\n",
    "\n",
    "        # LightGBM parameters found by Bayesian optimization\n",
    "    params = {\n",
    "            'objective': 'binary',\n",
    "            'boosting_type': 'gbdt',\n",
    "            'nthread': 4,\n",
    "            'learning_rate': 0.02,  \n",
    "            'num_leaves': 20,\n",
    "            'colsample_bytree': 0.9497036,\n",
    "            'subsample': 0.8715623,\n",
    "            'subsample_freq': 1,\n",
    "            'max_depth': 8,\n",
    "            'reg_alpha': 0.041545473,\n",
    "            'reg_lambda': 0.0735294,\n",
    "            'min_split_gain': 0.0222415,\n",
    "            'min_child_weight': 39.3259775, # 60,\n",
    "            'seed': 0,\n",
    "            'verbose': -1,\n",
    "            'metric': 'auc', \n",
    "        }\n",
    "        \n",
    "    clf = lgb.train(\n",
    "            params=params,\n",
    "            train_set=dtrain,\n",
    "            num_boost_round=10000,\n",
    "            valid_sets=[dtrain, dvalid],\n",
    "            early_stopping_rounds=200,\n",
    "            verbose_eval=False\n",
    "        )\n",
    "\n",
    "    oof_preds[valid_idx] = clf.predict(dvalid.data)\n",
    "    sub_preds += clf.predict(test_df[feats]) / folds.n_splits\n",
    "\n",
    "    fold_importance_df = pd.DataFrame()\n",
    "    fold_importance_df[\"feature\"] = feats\n",
    "    fold_importance_df[\"importance\"] = clf.feature_importance(importance_type='gain')\n",
    "    fold_importance_df[\"fold\"] = n_fold + 1\n",
    "    feature_importance_df = pd.concat([feature_importance_df, fold_importance_df], axis=0)\n",
    "    print('Fold %2d AUC : %.6f' % (n_fold + 1, roc_auc_score(dvalid.label, oof_preds[valid_idx])))\n",
    "    del clf, dtrain, dvalid\n",
    "    gc.collect()\n",
    "\n",
    "print('Full AUC score %.6f' % roc_auc_score(train_df['TARGET'], oof_preds))\n",
    "    # Write submission file and plot feature importance\n",
    "sub_df = test_df[['SK_ID_CURR']].copy()\n",
    "sub_df['TARGET'] = sub_preds\n",
    "sub_df[['SK_ID_CURR', 'TARGET']].to_csv('submission_drop_feature1.csv', index= False)"
   ]
  },
  {
   "cell_type": "code",
   "execution_count": 23,
   "metadata": {
    "collapsed": false
   },
   "outputs": [
    {
     "data": {
      "image/png": "[encoded data removed]",
      "text/plain": [
       "<matplotlib.figure.Figure at 0x1092cfcd0>"
      ]
     },
     "metadata": {},
     "output_type": "display_data"
    }
   ],
   "source": [
    "cols = feature_importance_df[[\"feature\", \"importance\"]].groupby(\"feature\").mean().sort_values(by=\"importance\", ascending=False)[:40].index\n",
    "best_features = feature_importance_df.loc[feature_importance_df.feature.isin(cols)]\n",
    "plt.figure(figsize=(8, 10))\n",
    "sns.barplot(x=\"importance\", y=\"feature\", data=best_features.sort_values(by=\"importance\", ascending=False))\n",
    "plt.title('LightGBM Features (avg over folds)')\n",
    "plt.tight_layout\n",
    "plt.savefig('lgbm_importances01.png')\n",
    "plt.show()"
   ]
  },
  {
   "cell_type": "code",
   "execution_count": 24,
   "metadata": {
    "collapsed": true
   },
   "outputs": [],
   "source": [
    "feature_importance_df.to_csv('feature_importance_df3.csv', index=False)"
   ]
  },
  {
   "cell_type": "code",
   "execution_count": 37,
   "metadata": {
    "collapsed": false
   },
   "outputs": [],
   "source": [
    "df=pd.read_csv('df_select_feature.csv')"
   ]
  },
  {
   "cell_type": "code",
   "execution_count": 38,
   "metadata": {
    "collapsed": true
   },
   "outputs": [],
   "source": [
    "train_df = df[df['TARGET'].notnull()]\n",
    "test_df = df[df['TARGET'].isnull()]\n",
    "feats = [f for f in train_df.columns if f not in ['TARGET','SK_ID_CURR','SK_ID_BUREAU','SK_ID_PREV','index']]\n",
    "X=train_df[feats].iloc[train_idx]\n",
    "y=train_df['TARGET'].iloc[train_idx]"
   ]
  },
  {
   "cell_type": "code",
   "execution_count": 40,
   "metadata": {
    "collapsed": true
   },
   "outputs": [],
   "source": [
    "warnings.filterwarnings(\"ignore\")\n",
    "import lightgbm as lgb\n",
    "from bayes_opt import BayesianOptimization\n",
    "from sklearn.metrics import roc_auc_score"
   ]
  },
  {
   "cell_type": "code",
   "execution_count": null,
   "metadata": {
    "collapsed": false
   },
   "outputs": [
    {
     "name": "stdout",
     "output_type": "stream",
     "text": [
      "\u001b[31mInitialization\u001b[0m\n",
      "\u001b[94m---------------------------------------------------------------------------------------------------------------------------------------------------------------------------------------------\u001b[0m\n",
      " Step |   Time |      Value |   bagging_fraction |   feature_fraction |   lambda_l1 |   lambda_l2 |   max_depth |   min_child_weight |   min_split_gain |   num_leaves |   scale_pos_weight | \n"
     ]
    }
   ],
   "source": [
    "def bayes_parameter_opt_lgb(X, y, init_round=15, opt_round=25, n_folds=5, random_seed=6, n_estimators=10000, learning_rate=0.02, output_process=False):\n",
    "    # prepare data\n",
    "    train_data = lgb.Dataset(data=X, label=y, free_raw_data=False, silent=True)\n",
    "    # parameters\n",
    "    def lgb_eval(num_leaves, feature_fraction, bagging_fraction, max_depth, lambda_l1, lambda_l2, min_split_gain, min_child_weight, scale_pos_weight):\n",
    "        params = {'application':'binary','boosting_type': 'gbdt','nthread': 4, 'verbose': -1,\\\n",
    "                  'num_iterations': n_estimators, 'learning_rate':learning_rate, 'early_stopping_round':200, 'metric':'auc'}\n",
    "        params[\"num_leaves\"] = int(round(num_leaves))\n",
    "        params['feature_fraction'] = max(min(feature_fraction, 1), 0)\n",
    "        params['bagging_fraction'] = max(min(bagging_fraction, 1), 0)\n",
    "        params['max_depth'] = int(round(max_depth))\n",
    "        params['lambda_l1'] = max(lambda_l1, 0)\n",
    "        params['lambda_l2'] = max(lambda_l2, 0)\n",
    "        params['min_split_gain'] = min_split_gain\n",
    "        params['min_child_weight'] = min_child_weight\n",
    "        params['scale_pos_weight']= scale_pos_weight\n",
    "        cv_result = lgb.cv(params, train_data, nfold=n_folds, seed=random_seed, stratified=True, verbose_eval =200, metrics=['auc'])\n",
    "        return max(cv_result['auc-mean'])\n",
    "    # range \n",
    "    lgbBO = BayesianOptimization(lgb_eval, {'num_leaves': (20, 45),\n",
    "                                            'feature_fraction': (0.1, 0.95),\n",
    "                                            'bagging_fraction': (0.8, 1),\n",
    "                                            'max_depth': (5, 9),\n",
    "                                            'lambda_l1': (0, 1),\n",
    "                                            'lambda_l2': (0, 1),\n",
    "                                            'min_split_gain': (0.001, 0.1),\n",
    "                                            'min_child_weight': (5, 70),\n",
    "                                           'scale_pos_weight':(1,10)})\n",
    "    # optimize\n",
    "    lgbBO.maximize(init_points=init_round, n_iter=opt_round)\n",
    "    \n",
    "    # output optimization process\n",
    "    if output_process==True: lgbBO.points_to_csv(\"bayes_opt_result.csv\")\n",
    "    \n",
    "    # return best parameters\n",
    "    return lgbBO.res['max']['max_params']\n",
    "\n",
    "opt_params = bayes_parameter_opt_lgb(X, y, init_round=15, opt_round=25, n_folds=5, random_seed=6, n_estimators=10000, learning_rate=0.02)"
   ]
  },
  {
   "cell_type": "code",
   "execution_count": null,
   "metadata": {
    "collapsed": true
   },
   "outputs": [],
   "source": []
  }
 ],
 "metadata": {
  "kernelspec": {
   "display_name": "Python 2",
   "language": "python",
   "name": "python2"
  },
  "language_info": {
   "codemirror_mode": {
    "name": "ipython",
    "version": 2
   },
   "file_extension": ".py",
   "mimetype": "text/x-python",
   "name": "python",
   "nbconvert_exporter": "python",
   "pygments_lexer": "ipython2",
   "version": "2.7.13"
  }
 },
 "nbformat": 4,
 "nbformat_minor": 2
}
